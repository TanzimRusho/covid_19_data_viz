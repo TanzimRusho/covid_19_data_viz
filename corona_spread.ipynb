{
  "nbformat": 4,
  "nbformat_minor": 0,
  "metadata": {
    "colab": {
      "name": "corona_spread.ipynb",
      "provenance": [],
      "authorship_tag": "ABX9TyNrTQbNCOpoueGLCncl0MBm",
      "include_colab_link": true
    },
    "kernelspec": {
      "name": "python3",
      "display_name": "Python 3"
    }
  },
  "cells": [
    {
      "cell_type": "markdown",
      "metadata": {
        "id": "view-in-github",
        "colab_type": "text"
      },
      "source": [
        "<a href=\"https://colab.research.google.com/github/TanzimRusho/covid_19_data_viz/blob/main/corona_spread.ipynb\" target=\"_parent\"><img src=\"https://colab.research.google.com/assets/colab-badge.svg\" alt=\"Open In Colab\"/></a>"
      ]
    },
    {
      "cell_type": "code",
      "metadata": {
        "id": "6ghlt-5Ldy0r",
        "colab": {
          "base_uri": "https://localhost:8080/",
          "height": 34
        },
        "outputId": "549ca80d-91da-4ec1-8d6c-d7dd70453c8d"
      },
      "source": [
        "from google.colab import drive\n",
        "drive.mount('/content/drive')"
      ],
      "execution_count": null,
      "outputs": [
        {
          "output_type": "stream",
          "text": [
            "Drive already mounted at /content/drive; to attempt to forcibly remount, call drive.mount(\"/content/drive\", force_remount=True).\n"
          ],
          "name": "stdout"
        }
      ]
    },
    {
      "cell_type": "code",
      "metadata": {
        "id": "N1R9HpOMetlY",
        "colab": {
          "base_uri": "https://localhost:8080/",
          "height": 68
        },
        "outputId": "efc47450-75fb-40f8-bd67-cd1640c8d0e8"
      },
      "source": [
        "import glob\n",
        "glob.glob('/content/drive/My Drive/corona/data/*')"
      ],
      "execution_count": null,
      "outputs": [
        {
          "output_type": "execute_result",
          "data": {
            "text/plain": [
              "['/content/drive/My Drive/corona/data/time_series_covid_19_confirmed.csv',\n",
              " '/content/drive/My Drive/corona/data/COVID19_line_list_data.csv',\n",
              " '/content/drive/My Drive/corona/data/covid_19_data.csv']"
            ]
          },
          "metadata": {
            "tags": []
          },
          "execution_count": 56
        }
      ]
    },
    {
      "cell_type": "code",
      "metadata": {
        "id": "9Cpr70jChuUN"
      },
      "source": [
        "import pandas as pd\n",
        "import operator\n",
        "import numpy as np\n",
        "import matplotlib.pyplot as plt"
      ],
      "execution_count": null,
      "outputs": []
    },
    {
      "cell_type": "code",
      "metadata": {
        "id": "zMpfa3hnhsGX"
      },
      "source": [
        "confirmed_df = pd.read_csv('/content/drive/My Drive/corona/data/time_series_covid_19_confirmed.csv')"
      ],
      "execution_count": null,
      "outputs": []
    },
    {
      "cell_type": "code",
      "metadata": {
        "id": "eA0Oq_4BiGh5",
        "colab": {
          "base_uri": "https://localhost:8080/",
          "height": 1000
        },
        "outputId": "24e97ffb-16bf-4c17-8938-ade4b0402b1e"
      },
      "source": [
        "cols = confirmed_df.keys()\n",
        "confirmed = confirmed_df.loc[:, cols[4]:cols[-1]]\n",
        "dates = confirmed.keys()\n",
        "latest_confirmed = confirmed_df[dates[-1]]\n",
        "unique_countries =  list(confirmed_df['Country/Region'].unique())\n",
        "country_confirmed_cases = []\n",
        "no_cases = []\n",
        "for i in unique_countries:\n",
        "    cases = latest_confirmed[confirmed_df['Country/Region']==i].sum()\n",
        "    if cases > 0:\n",
        "        country_confirmed_cases.append(cases)\n",
        "    else:\n",
        "        no_cases.append(i)\n",
        "        \n",
        "for i in no_cases:\n",
        "    unique_countries.remove(i)\n",
        "    \n",
        "unique_countries = [k for k, v in sorted(zip(unique_countries, country_confirmed_cases), key=operator.itemgetter(1), reverse=True)]\n",
        "for i in range(len(unique_countries)):\n",
        "    country_confirmed_cases[i] = latest_confirmed[confirmed_df['Country/Region']==unique_countries[i]].sum()\n",
        "\n",
        "# number of cases per country/region\n",
        "print('Confirmed Cases by Countries/Regions:')\n",
        "for i in range(len(unique_countries)):\n",
        "    print(f'{unique_countries[i]}: {country_confirmed_cases[i]} cases')"
      ],
      "execution_count": null,
      "outputs": [
        {
          "output_type": "stream",
          "text": [
            "Confirmed Cases by Countries/Regions:\n",
            "China: 80921.0 cases\n",
            "Italy: 12462.0 cases\n",
            "Iran: 9000.0 cases\n",
            "Korea, South: 7755.0 cases\n",
            "France: 2284.0 cases\n",
            "Spain: 2277.0 cases\n",
            "Germany: 1908.0 cases\n",
            "US: 1281.0 cases\n",
            "Cruise Ship: 696.0 cases\n",
            "Switzerland: 652.0 cases\n",
            "Japan: 639.0 cases\n",
            "Norway: 598.0 cases\n",
            "Netherlands: 503.0 cases\n",
            "Sweden: 500.0 cases\n",
            "United Kingdom: 459.0 cases\n",
            "Denmark: 444.0 cases\n",
            "Belgium: 314.0 cases\n",
            "Qatar: 262.0 cases\n",
            "Austria: 246.0 cases\n",
            "Bahrain: 195.0 cases\n",
            "Singapore: 178.0 cases\n",
            "Malaysia: 149.0 cases\n",
            "Australia: 128.0 cases\n",
            "Israel: 109.0 cases\n",
            "Canada: 108.0 cases\n",
            "Greece: 99.0 cases\n",
            "Czechia: 91.0 cases\n",
            "Iceland: 85.0 cases\n",
            "United Arab Emirates: 74.0 cases\n",
            "Kuwait: 72.0 cases\n",
            "Iraq: 71.0 cases\n",
            "India: 62.0 cases\n",
            "San Marino: 62.0 cases\n",
            "Lebanon: 61.0 cases\n",
            "Egypt: 60.0 cases\n",
            "Thailand: 59.0 cases\n",
            "Finland: 59.0 cases\n",
            "Portugal: 59.0 cases\n",
            "Slovenia: 57.0 cases\n",
            "Philippines: 49.0 cases\n",
            "Taiwan*: 48.0 cases\n",
            "Romania: 45.0 cases\n",
            "Ireland: 43.0 cases\n",
            "Brazil: 38.0 cases\n",
            "Vietnam: 38.0 cases\n",
            "Indonesia: 34.0 cases\n",
            "Poland: 31.0 cases\n",
            "Georgia: 24.0 cases\n",
            "Chile: 23.0 cases\n",
            "Saudi Arabia: 21.0 cases\n",
            "Algeria: 20.0 cases\n",
            "Russia: 20.0 cases\n",
            "Croatia: 19.0 cases\n",
            "Pakistan: 19.0 cases\n",
            "Argentina: 19.0 cases\n",
            "Oman: 18.0 cases\n",
            "Ecuador: 17.0 cases\n",
            "Estonia: 16.0 cases\n",
            "Hungary: 13.0 cases\n",
            "South Africa: 13.0 cases\n",
            "Costa Rica: 13.0 cases\n",
            "Serbia: 12.0 cases\n",
            "Albania: 12.0 cases\n",
            "Azerbaijan: 11.0 cases\n",
            "Peru: 11.0 cases\n",
            "Brunei: 11.0 cases\n",
            "Latvia: 10.0 cases\n",
            "Slovakia: 10.0 cases\n",
            "Belarus: 9.0 cases\n",
            "Colombia: 9.0 cases\n",
            "Mexico: 8.0 cases\n",
            "Maldives: 8.0 cases\n",
            "Panama: 8.0 cases\n",
            "Afghanistan: 7.0 cases\n",
            "North Macedonia: 7.0 cases\n",
            "Luxembourg: 7.0 cases\n",
            "Tunisia: 7.0 cases\n",
            "Bosnia and Herzegovina: 7.0 cases\n",
            "Bulgaria: 7.0 cases\n",
            "Malta: 6.0 cases\n",
            "Cyprus: 6.0 cases\n",
            "New Zealand: 5.0 cases\n",
            "Dominican Republic: 5.0 cases\n",
            "Morocco: 5.0 cases\n",
            "French Guiana: 5.0 cases\n",
            "Paraguay: 5.0 cases\n",
            "Senegal: 4.0 cases\n",
            "Cambodia: 3.0 cases\n",
            "Lithuania: 3.0 cases\n",
            "Martinique: 3.0 cases\n",
            "Bangladesh: 3.0 cases\n",
            "Moldova: 3.0 cases\n",
            "Sri Lanka: 2.0 cases\n",
            "Nigeria: 2.0 cases\n",
            "Cameroon: 2.0 cases\n",
            "Burkina Faso: 2.0 cases\n",
            "Bolivia: 2.0 cases\n",
            "Honduras: 2.0 cases\n",
            "Nepal: 1.0 cases\n",
            "Monaco: 1.0 cases\n",
            "Armenia: 1.0 cases\n",
            "Andorra: 1.0 cases\n",
            "Jordan: 1.0 cases\n",
            "Ukraine: 1.0 cases\n",
            "Liechtenstein: 1.0 cases\n",
            "Bhutan: 1.0 cases\n",
            "Togo: 1.0 cases\n",
            "Holy See: 1.0 cases\n",
            "Mongolia: 1.0 cases\n",
            "Congo (Kinshasa): 1.0 cases\n",
            "Cote d'Ivoire: 1.0 cases\n",
            "Jamaica: 1.0 cases\n",
            "Reunion: 1.0 cases\n",
            "Turkey: 1.0 cases\n"
          ],
          "name": "stdout"
        }
      ]
    },
    {
      "cell_type": "code",
      "metadata": {
        "id": "qlRcanVN0Tug",
        "colab": {
          "base_uri": "https://localhost:8080/",
          "height": 187
        },
        "outputId": "4e4a82b4-3da3-4f59-a0df-ec57ae1016f6"
      },
      "source": [
        "cols"
      ],
      "execution_count": null,
      "outputs": [
        {
          "output_type": "execute_result",
          "data": {
            "text/plain": [
              "Index(['Province/State', 'Country/Region', 'Lat', 'Long', '1/22/20', '1/23/20',\n",
              "       '1/24/20', '1/25/20', '1/26/20', '1/27/20', '1/28/20', '1/29/20',\n",
              "       '1/30/20', '1/31/20', '2/1/20', '2/2/20', '2/3/20', '2/4/20', '2/5/20',\n",
              "       '2/6/20', '2/7/20', '2/8/20', '2/9/20', '2/10/20', '2/11/20', '2/12/20',\n",
              "       '2/13/20', '2/14/20', '2/15/20', '2/16/20', '2/17/20', '2/18/20',\n",
              "       '2/19/20', '2/20/20', '2/21/20', '2/22/20', '2/23/20', '2/24/20',\n",
              "       '2/25/20', '2/26/20', '2/27/20', '2/28/20', '2/29/20', '3/1/20',\n",
              "       '3/2/20', '3/3/20', '3/4/20', '3/5/20', '3/6/20', '3/7/20', '3/8/20',\n",
              "       '3/9/20', '3/10/20', '3/11/20'],\n",
              "      dtype='object')"
            ]
          },
          "metadata": {
            "tags": []
          },
          "execution_count": 60
        }
      ]
    },
    {
      "cell_type": "code",
      "metadata": {
        "id": "ZiAXAfenlLQ_",
        "colab": {
          "base_uri": "https://localhost:8080/",
          "height": 153
        },
        "outputId": "e5b225cc-7cac-4e8b-c316-bfde59915a41"
      },
      "source": [
        "china_confirmed = confirmed_df.loc[confirmed_df['Country/Region']=='Mainland China', cols[4]:cols[24]]\n",
        "italy_confirmed = confirmed_df.loc[confirmed_df['Country/Region']=='Italy', cols[13]:cols[33]] \n",
        "iran_confirmed = confirmed_df.loc[confirmed_df['Country/Region']=='Iran (Islamic Republic of)', cols[32]:cols[52]]\n",
        "spain_confirmed = confirmed_df.loc[confirmed_df['Country/Region']=='Spain', cols[14]:cols[34]]\n",
        "germany_confirmed = confirmed_df.loc[confirmed_df['Country/Region']=='Germany', cols[9]:cols[29]]\n",
        "skorea_confirmed = confirmed_df.loc[confirmed_df['Country/Region']=='Republic of Korea', cols[4]:cols[24]]\n",
        "france_confirmed = confirmed_df.loc[confirmed_df['Country/Region']=='France', cols[6]:cols[26]]\n",
        "usa_confirmed = confirmed_df.loc[confirmed_df['Country/Region']=='US', cols[4]:cols[24]]\n",
        "\n",
        "china_dates = china_confirmed.keys()\n",
        "italy_dates = italy_confirmed.keys()\n",
        "iran_dates = iran_confirmed.keys()\n",
        "spain_dates = spain_confirmed.keys()\n",
        "germany_dates = germany_confirmed.keys()\n",
        "skorea_dates = skorea_confirmed.keys()\n",
        "france_dates = france_confirmed.keys()\n",
        "usa_dates = usa_confirmed.keys()\n",
        "\n",
        "china_cases = []\n",
        "italy_cases = []\n",
        "iran_cases = []\n",
        "spain_cases = []\n",
        "germany_cases = []\n",
        "skorea_cases = []\n",
        "france_cases = []\n",
        "usa_cases = []\n",
        "\n",
        "for i in china_dates:\n",
        "    china_sum = china_confirmed[i].sum()\n",
        "    china_cases.append(china_sum)\n",
        "\n",
        "for i in italy_dates:\n",
        "    italy_sum = italy_confirmed[i].sum()\n",
        "    italy_cases.append(italy_sum)\n",
        "\n",
        "for i in iran_dates:\n",
        "    iran_sum = iran_confirmed[i].sum()\n",
        "    iran_cases.append(iran_sum)\n",
        "\n",
        "for i in spain_dates:\n",
        "    spain_sum = spain_confirmed[i].sum()\n",
        "    spain_cases.append(spain_sum)\n",
        "\n",
        "for i in germany_dates:\n",
        "    germany_sum = germany_confirmed[i].sum()\n",
        "    germany_cases.append(germany_sum)\n",
        "\n",
        "for i in skorea_dates:\n",
        "    skorea_sum = skorea_confirmed[i].sum()\n",
        "    skorea_cases.append(skorea_sum)\n",
        "\n",
        "for i in france_dates:\n",
        "    france_sum = france_confirmed[i].sum()\n",
        "    france_cases.append(france_sum)\n",
        "\n",
        "for i in usa_dates:\n",
        "    usa_sum = usa_confirmed[i].sum()\n",
        "    usa_cases.append(usa_sum)\n",
        "\n",
        "print(china_cases)\n",
        "print(italy_cases)\n",
        "print(iran_cases)\n",
        "print(spain_cases)\n",
        "print(germany_cases)\n",
        "print(skorea_cases)\n",
        "print(france_cases)\n",
        "print(usa_cases)"
      ],
      "execution_count": null,
      "outputs": [
        {
          "output_type": "stream",
          "text": [
            "[547, 639, 916, 1399, 2062, 2863, 5494, 6070, 8124, 9783, 11871, 16607, 19693, 23680, 27409, 30553, 34075, 36778, 39790, 42306, 44327]\n",
            "[2, 2, 2, 2, 2, 2, 2, 3, 3, 3, 3, 3, 3, 3, 3, 3, 3, 3, 3, 3, 3]\n",
            "[2, 5, 18, 28, 43, 61, 95, 139, 245, 388, 593, 978, 1501, 2336, 2922, 3513, 4747, 5823, 6566, 7161, 8042]\n",
            "[1, 1, 1, 1, 1, 1, 1, 1, 2, 2, 2, 2, 2, 2, 2, 2, 2, 2, 2, 2, 2]\n",
            "[1, 4, 4, 4, 5, 8, 10, 12, 12, 12, 12, 13, 13, 14, 14, 16, 16, 16, 16, 16, 16]\n",
            "[1, 1, 2, 2, 3, 4, 4, 4, 4, 11, 12, 15, 15, 16, 19, 23, 24, 24, 25, 27, 28]\n",
            "[2, 3, 3, 3, 4, 5, 5, 5, 6, 6, 6, 6, 6, 6, 6, 11, 11, 11, 11, 11, 11]\n",
            "[1, 1, 2, 2, 5, 5, 5, 5, 5, 7, 8, 8, 11, 11, 11, 11, 11, 11, 11, 11, 12]\n"
          ],
          "name": "stdout"
        }
      ]
    },
    {
      "cell_type": "code",
      "metadata": {
        "id": "-RiOvkjVw4Ru"
      },
      "source": [
        "china_cases = np.array(china_cases).reshape(-1, 1)\n",
        "italy_cases = np.array(italy_cases).reshape(-1, 1)\n",
        "iran_cases = np.array(iran_cases).reshape(-1, 1)\n",
        "spain_cases = np.array(spain_cases).reshape(-1, 1)\n",
        "germany_cases = np.array(germany_cases).reshape(-1, 1)\n",
        "skorea_cases = np.array(skorea_cases).reshape(-1, 1)\n",
        "france_cases = np.array(france_cases).reshape(-1, 1)\n",
        "usa_cases = np.array(usa_cases).reshape(-1, 1)"
      ],
      "execution_count": null,
      "outputs": []
    },
    {
      "cell_type": "code",
      "metadata": {
        "id": "YQicOjhZLc6x"
      },
      "source": [
        "adjusted_dates = np.array([i for i in range(len(china_dates))]).reshape(-1, 1)"
      ],
      "execution_count": null,
      "outputs": []
    },
    {
      "cell_type": "code",
      "metadata": {
        "id": "Z8orbuIsL5fA",
        "colab": {
          "base_uri": "https://localhost:8080/",
          "height": 411
        },
        "outputId": "8c2d3b0e-8058-4e95-dba5-9195c33913d3"
      },
      "source": [
        "plt.figure(figsize=(10, 6))\n",
        "plt.plot(adjusted_dates, china_cases, color='red')\n",
        "plt.plot(adjusted_dates, italy_cases, color='royalblue')\n",
        "plt.plot(adjusted_dates, iran_cases, color='green')\n",
        "plt.title('Number of Coronavirus Cases Over Time', size=15)\n",
        "plt.xlabel('First 3 Weeks', size=15)\n",
        "plt.ylabel('Number of Cases', size=15)\n",
        "plt.xticks(size=10)\n",
        "plt.legend(['China', 'Italy', 'Iran'])\n",
        "plt.show()"
      ],
      "execution_count": null,
      "outputs": [
        {
          "output_type": "display_data",
          "data": {
            "image/png": "[encoded data removed]",
            "text/plain": [
              "<Figure size 720x432 with 1 Axes>"
            ]
          },
          "metadata": {
            "tags": []
          }
        }
      ]
    },
    {
      "cell_type": "code",
      "metadata": {
        "id": "nKWrg0tAe1kk",
        "colab": {
          "base_uri": "https://localhost:8080/",
          "height": 411
        },
        "outputId": "ee141ba3-04b3-46db-fd7f-7542467cf698"
      },
      "source": [
        "plt.figure(figsize=(10, 6))\n",
        "plt.plot(adjusted_dates, spain_cases, color='purple')\n",
        "plt.plot(adjusted_dates, germany_cases, color='gold')\n",
        "plt.plot(adjusted_dates, skorea_cases, color='crimson')\n",
        "plt.plot(adjusted_dates, france_cases, color='darkblue')\n",
        "plt.plot(adjusted_dates, usa_cases, color='brown')\n",
        "plt.title('Number of Coronavirus Cases Over Time', size=15)\n",
        "plt.xlabel('First 3 Weeks', size=15)\n",
        "plt.ylabel('Number of Cases', size=15)\n",
        "plt.xticks(size=10)\n",
        "plt.legend(['Spain', 'Germany', 'South Korea', 'France', 'USA'])\n",
        "plt.show()\n"
      ],
      "execution_count": null,
      "outputs": [
        {
          "output_type": "display_data",
          "data": {
            "image/png": "[encoded data removed]",
            "text/plain": [
              "<Figure size 720x432 with 1 Axes>"
            ]
          },
          "metadata": {
            "tags": []
          }
        }
      ]
    }
  ]
}